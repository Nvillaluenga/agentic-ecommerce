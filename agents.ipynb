{
 "cells": [
  {
   "cell_type": "code",
   "execution_count": 1,
   "metadata": {},
   "outputs": [
    {
     "data": {
      "image/png": "[encoded data removed]",
      "text/plain": [
       "<IPython.core.display.Image object>"
      ]
     },
     "metadata": {},
     "output_type": "display_data"
    }
   ],
   "source": [
    "from ecommerce_agent.agent import init_graph\n",
    "from IPython.display import Image, display\n",
    "from ecommerce_agent.tools.retrieve_catalog import retrieve_catalog_sheets\n",
    "from langchain_google_vertexai import ChatVertexAI, HarmBlockThreshold, HarmCategory\n",
    "\n",
    "safety_settings = {\n",
    "    HarmCategory.HARM_CATEGORY_UNSPECIFIED: HarmBlockThreshold.BLOCK_ONLY_HIGH,\n",
    "    HarmCategory.HARM_CATEGORY_DANGEROUS_CONTENT: HarmBlockThreshold.BLOCK_ONLY_HIGH,\n",
    "    HarmCategory.HARM_CATEGORY_HATE_SPEECH: HarmBlockThreshold.BLOCK_ONLY_HIGH,\n",
    "    HarmCategory.HARM_CATEGORY_HARASSMENT: HarmBlockThreshold.BLOCK_ONLY_HIGH,\n",
    "    HarmCategory.HARM_CATEGORY_SEXUALLY_EXPLICIT: HarmBlockThreshold.BLOCK_ONLY_HIGH,\n",
    "}\n",
    "\n",
    "model = ChatVertexAI(model=\"gemini-2.0-flash-exp\", safety_settings=safety_settings)\n",
    "graph = init_graph(model=model, tools = [retrieve_catalog_sheets])\n",
    "display(Image(graph.get_graph().draw_mermaid_png()))\n",
    "\n"
   ]
  },
  {
   "cell_type": "code",
   "execution_count": 13,
   "metadata": {},
   "outputs": [
    {
     "name": "stderr",
     "output_type": "stream",
     "text": [
      "Key '$defs' is not supported in schema, ignoring\n"
     ]
    },
    {
     "name": "stdout",
     "output_type": "stream",
     "text": [
      "We found some memory\n",
      "\"{\\\"name\\\":\\\"Nacho\\\",\\\"gender\\\":\\\"male\\\",\\\"user_article_sizes\\\":[{\\\"article_type\\\":\\\"tops\\\",\\\"size\\\":\\\"XL\\\"}]}\"\n"
     ]
    },
    {
     "data": {
      "text/plain": [
       "{'messages': [AIMessage(content=\"Great choice! Just to clarify, you'd like the sunglasses with a black frame, is that correct? And do you have a preference for the lens color? They come in grey and brown.\\n\", additional_kwargs={}, response_metadata={'is_blocked': False, 'safety_ratings': [{'category': 'HARM_CATEGORY_HATE_SPEECH', 'probability_label': 'NEGLIGIBLE', 'blocked': False, 'severity': 'HARM_SEVERITY_NEGLIGIBLE'}, {'category': 'HARM_CATEGORY_DANGEROUS_CONTENT', 'probability_label': 'NEGLIGIBLE', 'blocked': False, 'severity': 'HARM_SEVERITY_NEGLIGIBLE'}, {'category': 'HARM_CATEGORY_HARASSMENT', 'probability_label': 'NEGLIGIBLE', 'blocked': False, 'severity': 'HARM_SEVERITY_NEGLIGIBLE'}, {'category': 'HARM_CATEGORY_SEXUALLY_EXPLICIT', 'probability_label': 'NEGLIGIBLE', 'blocked': False, 'severity': 'HARM_SEVERITY_NEGLIGIBLE'}], 'usage_metadata': {'prompt_token_count': 1709, 'candidates_token_count': 41, 'total_token_count': 1750, 'cached_content_token_count': 0}, 'finish_reason': 'STOP', 'avg_logprobs': -0.29250891615704794}, id='run-59a8a619-7d49-4967-9929-55822700aebb-0', usage_metadata={'input_tokens': 1709, 'output_tokens': 41, 'total_tokens': 1750}),\n",
       "  HumanMessage(content='black frame and brown lenses', additional_kwargs={}, response_metadata={}, id='777c7181-5ecc-47d4-b124-cbafb4cde67f'),\n",
       "  AIMessage(content='Okay, the sunglasses with a black frame and brown lenses it is. Perfect choice! Do you want to proceed with the purchase or do you want to keep looking for other options?\\n', additional_kwargs={}, response_metadata={'is_blocked': False, 'safety_ratings': [{'category': 'HARM_CATEGORY_HATE_SPEECH', 'probability_label': 'NEGLIGIBLE', 'blocked': False, 'severity': 'HARM_SEVERITY_NEGLIGIBLE'}, {'category': 'HARM_CATEGORY_DANGEROUS_CONTENT', 'probability_label': 'NEGLIGIBLE', 'blocked': False, 'severity': 'HARM_SEVERITY_NEGLIGIBLE'}, {'category': 'HARM_CATEGORY_HARASSMENT', 'probability_label': 'NEGLIGIBLE', 'blocked': False, 'severity': 'HARM_SEVERITY_NEGLIGIBLE'}, {'category': 'HARM_CATEGORY_SEXUALLY_EXPLICIT', 'probability_label': 'NEGLIGIBLE', 'blocked': False, 'severity': 'HARM_SEVERITY_NEGLIGIBLE'}], 'usage_metadata': {'prompt_token_count': 1614, 'candidates_token_count': 37, 'total_token_count': 1651, 'cached_content_token_count': 0}, 'finish_reason': 'STOP', 'avg_logprobs': -0.6782967335469013}, id='run-ff8cd513-68f4-488a-bfad-16b6bf75be04-0', usage_metadata={'input_tokens': 1614, 'output_tokens': 37, 'total_tokens': 1651})],\n",
       " 'summary': \"Okay, here's an updated summary of our conversation:\\n\\n**You:** Started by saying hello, and then mentioned you needed help finding a gift for your girlfriend.\\n**Me:** Responded to your greeting and asked what kind of gift you were thinking of, and then after you said accessories, I started a product search.\\n**Me:** I told you we have sunglasses and wallets and asked if you were interested in any of those options.\\n**You:** You said you were interested in sunglasses and asked for more information about them.\\n**Me:** I provided details about the sunglasses, including the price, available frame colors (black, brown) and lens colors (grey, brown).\\n**You:** You indicated you'd like the sunglasses with a black frame and brown lenses.\\n\\nSo, we've narrowed it down to sunglasses as a potential gift for your girlfriend, specifically the ones with a black frame and brown lenses. We're almost there! What would you like to do next? Would you like to proceed with the purchase of those sunglasses?\\n\",\n",
       " 'catalog': [{'product_name': \"Men's Cotton T-Shirt\",\n",
       "   'description': 'Classic fit t-shirt made from 100% soft cotton.',\n",
       "   'price': '15.99',\n",
       "   'category': \"Clothing/Men's/T-Shirts\",\n",
       "   'image_url': 'https://example.com/images/mens-cotton-tshirt.jpg',\n",
       "   'attributes': '{ \"color\": [\"blue\", \"white\", \"black\"], \"size\": [\"S\", \"M\", \"L\", \"XL\"] }',\n",
       "   'stock_quantity': '50'},\n",
       "  {'product_name': \"Women's Denim Jeans\",\n",
       "   'description': 'Slim-fit jeans with a classic denim wash.',\n",
       "   'price': '49.99',\n",
       "   'category': \"Clothing/Women's/Jeans\",\n",
       "   'image_url': 'https://example.com/images/womens-denim-jeans.jpg',\n",
       "   'attributes': '{ \"color\": [\"blue\", \"black\"], \"size\": [28, 30, 32, 34] } ',\n",
       "   'stock_quantity': '30'},\n",
       "  {'product_name': 'Leather Wallet',\n",
       "   'description': 'Genuine leather wallet with multiple card slots and a coin pocket.',\n",
       "   'price': '29.99',\n",
       "   'category': \"Accessories/Men's/Wallets\",\n",
       "   'image_url': 'https://example.com/images/leather-wallet.jpg',\n",
       "   'attributes': '{ \"color\": [\"brown\", \"black\"] }',\n",
       "   'stock_quantity': '20'},\n",
       "  {'product_name': 'Sunglasses',\n",
       "   'description': 'UV-protective sunglasses with a stylish frame.',\n",
       "   'price': '19.99',\n",
       "   'category': 'Accessories/Unisex/Sunglasses',\n",
       "   'image_url': 'https://example.com/images/sunglasses.jpg',\n",
       "   'attributes': '{ \"frame_color\": [\"black\", \"brown\"], \"lens_color\": [\"grey\", \"brown\"] }',\n",
       "   'stock_quantity': '40'},\n",
       "  {'product_name': 'Wireless Headphones',\n",
       "   'description': 'Over-ear wireless headphones with noise cancellation.',\n",
       "   'price': '129.99',\n",
       "   'category': 'Electronics/Audio/Headphones',\n",
       "   'image_url': 'https://example.com/images/wireless-headphones.jpg',\n",
       "   'attributes': '{ \"color\": [\"black\", \"white\"] }',\n",
       "   'stock_quantity': '15'},\n",
       "  {'product_name': 'Smartphone',\n",
       "   'description': 'High-performance smartphone with a triple-lens camera.',\n",
       "   'price': '599.99',\n",
       "   'category': 'Electronics/Phones/Smartphones',\n",
       "   'image_url': 'https://example.com/images/smartphone.jpg',\n",
       "   'attributes': '{ \"color\": [\"black\", \"silver\"], \"storage\": [\"128GB\", \"256GB\"] }',\n",
       "   'stock_quantity': '10'},\n",
       "  {'product_name': 'Laptop',\n",
       "   'description': 'Lightweight laptop with a long battery life.',\n",
       "   'price': '899.99',\n",
       "   'category': 'Electronics/Computers/Laptops',\n",
       "   'image_url': 'https://example.com/images/laptop.jpg',\n",
       "   'attributes': '{ \"color\": [\"silver\", \"grey\"], \"ram\": [\"8GB\", \"16GB\"] }',\n",
       "   'stock_quantity': '8'},\n",
       "  {'product_name': 'Coffee Maker',\n",
       "   'description': 'Automatic coffee maker with a built-in grinder.',\n",
       "   'price': '79.99',\n",
       "   'category': 'Home Appliances/Kitchen/Coffee Makers',\n",
       "   'image_url': 'https://example.com/images/coffee-maker.jpg',\n",
       "   'attributes': '{ \"color\": [\"black\", \"stainless steel\"] }',\n",
       "   'stock_quantity': '25'},\n",
       "  {'product_name': 'Blender',\n",
       "   'description': 'Powerful blender with multiple speed settings.',\n",
       "   'price': '49.99',\n",
       "   'category': 'Home Appliances/Kitchen/Blenders',\n",
       "   'image_url': 'https://example.com/images/blender.jpg',\n",
       "   'attributes': '{ \"color\": [\"white\", \"black\"] }',\n",
       "   'stock_quantity': '35'},\n",
       "  {'product_name': 'Running Shoes',\n",
       "   'description': 'Lightweight running shoes with breathable mesh.',\n",
       "   'price': '79.99',\n",
       "   'category': 'Sports & Outdoors/Running/Shoes',\n",
       "   'image_url': 'https://example.com/images/running-shoes.jpg',\n",
       "   'attributes': '{ \"color\": [\"blue\", \"black\", \"grey\"], \"size\": [8, 9, 10, 11] }',\n",
       "   'stock_quantity': '45'}]}"
      ]
     },
     "execution_count": 13,
     "metadata": {},
     "output_type": "execute_result"
    }
   ],
   "source": [
    "# Specify a thread\n",
    "config = {\"configurable\": {\"thread_id\": \"1601_10\", \"user_id\": \"nachito\"}}\n",
    "messages = graph.invoke({\"messages\": [\"black frame and brown lenses\"]}, config)\n",
    "messages"
   ]
  },
  {
   "cell_type": "code",
   "execution_count": null,
   "metadata": {},
   "outputs": [],
   "source": []
  }
 ],
 "metadata": {
  "kernelspec": {
   "display_name": ".venv",
   "language": "python",
   "name": "python3"
  },
  "language_info": {
   "codemirror_mode": {
    "name": "ipython",
    "version": 3
   },
   "file_extension": ".py",
   "mimetype": "text/x-python",
   "name": "python",
   "nbconvert_exporter": "python",
   "pygments_lexer": "ipython3",
   "version": "3.12.8"
  }
 },
 "nbformat": 4,
 "nbformat_minor": 2
}
